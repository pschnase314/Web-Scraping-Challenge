{
 "cells": [
  {
   "cell_type": "code",
   "execution_count": null,
   "id": "f0a33981",
   "metadata": {},
   "outputs": [],
   "source": [
    "#import dependencies\n",
    "from bs4 import BeautifulSoup\n",
    "import pandas as pd\n",
    "import matplotlib.pyplot as plt\n",
    "import datetime"
   ]
  },
  {
   "cell_type": "code",
   "execution_count": null,
   "id": "2dd0bbe9",
   "metadata": {},
   "outputs": [],
   "source": [
    "#I am doing it the simple way.\n",
    "#get the url and read the data from the table\n",
    "url = \"https://data-class-mars-challenge.s3.amazonaws.com/Mars/index.html\"\n",
    "df = pd.read_html(url)[0]\n",
    "#look at some of the data\n",
    "df.head()"
   ]
  },
  {
   "cell_type": "code",
   "execution_count": null,
   "id": "e775a035",
   "metadata": {},
   "outputs": [],
   "source": [
    "#look at the data types\n",
    "df.dtypes"
   ]
  },
  {
   "cell_type": "code",
   "execution_count": null,
   "id": "aab24ff8",
   "metadata": {},
   "outputs": [],
   "source": [
    "#change the terrestrial dates into terrestrial datetime format\n",
    "df[\"terrestrial_date\"] = pd.to_datetime(df[\"terrestrial_date\"])"
   ]
  },
  {
   "cell_type": "code",
   "execution_count": null,
   "id": "b699018c",
   "metadata": {},
   "outputs": [],
   "source": [
    "#find the number of distinct Martian months\n",
    "num_months = len(df[\"month\"].unique())\n",
    "print(f\"There are {num_months} distinct months on Mars.\")"
   ]
  },
  {
   "cell_type": "code",
   "execution_count": null,
   "id": "7f3a32ff",
   "metadata": {},
   "outputs": [],
   "source": [
    "#find how many Martian days of data we have\n",
    "num_days = len(df[\"sol\"].unique())\n",
    "print(f\"Data was taken on {num_days} distict Martian days.\")"
   ]
  },
  {
   "cell_type": "code",
   "execution_count": null,
   "id": "d56fa2ed",
   "metadata": {},
   "outputs": [],
   "source": [
    "#group data by Martian month and take the average\n",
    "avg_temps = df.groupby(df[\"month\"]).mean()[\"min_temp\"]\n",
    "print(avg_temps)\n",
    "#report coldest and least cold months\n",
    "print(f\"The lowest average minimum temperature occured in the 3rd month at {avg_temps[3]} degrees Celsius.\")\n",
    "print(f\"The highest average minimum temperature occured in the 8th month at {avg_temps[8]} degrees Celsius\")\n",
    "#plot the temperature data\n",
    "plt.bar([1,2,3,4,5,6,7,8,9,10,11,12],avg_temps)\n",
    "plt.xlabel(\"Month\")\n",
    "plt.ylabel(\"Average Minimum Temperature (degrees C)\")\n",
    "plt.title(\"Average Minimum Temperatures on Mars by Month\")\n",
    "plt.show()"
   ]
  },
  {
   "cell_type": "code",
   "execution_count": null,
   "id": "c9f93046",
   "metadata": {},
   "outputs": [],
   "source": [
    "#group by month and find average pressure\n",
    "avg_p = df.groupby(df[\"month\"]).mean()[\"pressure\"]\n",
    "print(avg_p)\n",
    "#report highest and lowest pressure months\n",
    "print(f\"The lowest average minimum temperature occured in the 6th month at {avg_p[6]}.\")\n",
    "print(f\"The highest average minimum temperature occured in the 9th month at {avg_p[9]}.\")\n",
    "#plot the data\n",
    "plt.bar([1,2,3,4,5,6,7,8,9,10,11,12],avg_p)\n",
    "plt.xlabel(\"Month\")\n",
    "plt.ylabel(\"Average Pressure\")\n",
    "plt.title(\"Average Pressure on Mars by Month\")\n",
    "plt.show()"
   ]
  },
  {
   "cell_type": "code",
   "execution_count": null,
   "id": "4a481327",
   "metadata": {},
   "outputs": [],
   "source": [
    "#find the number of Earth days in a Martian year\n",
    "#the first measurement of the year is when the month column drops by 11\n",
    "#make a list of first Earth day of each Martian year\n",
    "firsts = []\n",
    "prev = 0\n",
    "for (day, month) in zip(df[\"terrestrial_date\"], df[\"month\"]):\n",
    "    if prev-month == 11:\n",
    "        firsts.append(day)\n",
    "    prev = month\n",
    "#report the length of Martian year based on Martian months\n",
    "print(\"The martian year is about \" + str((firsts[2]-firsts[0])/(len(firsts)-1)) + \" long based on the Martian months in the dataset.\")\n",
    "#plot all temperature measurements\n",
    "plt.plot(df[\"terrestrial_date\"],df[\"min_temp\"])\n",
    "plt.xlabel(\"Terrestrial Year\")\n",
    "plt.ylabel(\"Min Temperature (Degrees C)\")\n",
    "plt.title(\"Martian Minimum Temperature over Time\")\n",
    "plt.show()\n",
    "#report length of Martian year based on temperature cycles\n",
    "#dates were extracted from the graph using the WebPlotDigitizer (https://apps.automeris.io/wpd/)\n",
    "print(f\"According to the temperature graph, temperature peaks occur around 2013/01/02, 2014/10/30, and 2016/10/05. this means the Martian year is around {str((datetime.date(2016,10,5)-datetime.date(2013,1,2))/2)} based on temperature cycles.\")"
   ]
  },
  {
   "cell_type": "code",
   "execution_count": null,
   "id": "1c9abce3",
   "metadata": {},
   "outputs": [],
   "source": [
    "#export data to .csv file\n",
    "df.to_csv(\"marsData.csv\",index=False)"
   ]
  },
  {
   "cell_type": "code",
   "execution_count": null,
   "id": "5d0ba4ec",
   "metadata": {},
   "outputs": [],
   "source": []
  }
 ],
 "metadata": {
  "kernelspec": {
   "display_name": "PythonData",
   "language": "python",
   "name": "pythondata"
  },
  "language_info": {
   "codemirror_mode": {
    "name": "ipython",
    "version": 3
   },
   "file_extension": ".py",
   "mimetype": "text/x-python",
   "name": "python",
   "nbconvert_exporter": "python",
   "pygments_lexer": "ipython3",
   "version": "3.7.13"
  }
 },
 "nbformat": 4,
 "nbformat_minor": 5
}
