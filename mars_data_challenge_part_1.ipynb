{
 "cells": [
  {
   "cell_type": "code",
   "execution_count": null,
   "id": "7cf8cdf6",
   "metadata": {},
   "outputs": [],
   "source": [
    "#import dependencies\n",
    "from bs4 import BeautifulSoup\n",
    "from splinter import Browser\n",
    "from webdriver_manager.chrome import ChromeDriverManager"
   ]
  },
  {
   "cell_type": "code",
   "execution_count": null,
   "id": "0e9355a2",
   "metadata": {},
   "outputs": [],
   "source": [
    "#take control of the browser\n",
    "executable_path = {'executable_path': ChromeDriverManager().install()}\n",
    "browser = Browser('chrome', **executable_path, headless=False)"
   ]
  },
  {
   "cell_type": "code",
   "execution_count": null,
   "id": "6f23cbd5",
   "metadata": {},
   "outputs": [],
   "source": [
    "#input and visit the url\n",
    "url = \"https://redplanetscience.com/\"\n",
    "browser.visit(url)"
   ]
  },
  {
   "cell_type": "code",
   "execution_count": null,
   "id": "ec9479ed",
   "metadata": {},
   "outputs": [],
   "source": [
    "#get the html from the url and parse it\n",
    "html = browser.html\n",
    "soup = BeautifulSoup(html, 'html.parser')"
   ]
  },
  {
   "cell_type": "code",
   "execution_count": null,
   "id": "d952aaca",
   "metadata": {},
   "outputs": [],
   "source": [
    "#find the titles of the articles\n",
    "titles = soup.find_all('div', class_='content_title')\n",
    "#find the previews for the articles\n",
    "previews = soup.find_all('div', class_='article_teaser_body')\n",
    "#put the results in a list of dictionaries\n",
    "results = []\n",
    "for (title, preview) in zip(titles, previews):\n",
    "    results.append({\"title\":title.text,\"preview\":preview.text})\n",
    "#print the results\n",
    "print(results)"
   ]
  },
  {
   "cell_type": "code",
   "execution_count": null,
   "id": "5e86f99a",
   "metadata": {},
   "outputs": [],
   "source": [
    "#quit out of the browser\n",
    "browser.quit()"
   ]
  },
  {
   "cell_type": "code",
   "execution_count": null,
   "id": "0e9ccaa7",
   "metadata": {},
   "outputs": [],
   "source": []
  }
 ],
 "metadata": {
  "kernelspec": {
   "display_name": "PythonData",
   "language": "python",
   "name": "pythondata"
  },
  "language_info": {
   "codemirror_mode": {
    "name": "ipython",
    "version": 3
   },
   "file_extension": ".py",
   "mimetype": "text/x-python",
   "name": "python",
   "nbconvert_exporter": "python",
   "pygments_lexer": "ipython3",
   "version": "3.7.13"
  }
 },
 "nbformat": 4,
 "nbformat_minor": 5
}
